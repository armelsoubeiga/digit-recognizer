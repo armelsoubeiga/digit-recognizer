{
 "cells": [
  {
   "attachments": {
    "UGA.png": {
     "image/png": "[encoded data removed]"
    }
   },
   "cell_type": "markdown",
   "metadata": {},
   "source": [
    "![UGA.png](attachment:UGA.png)"
   ]
  },
  {
   "cell_type": "markdown",
   "metadata": {},
   "source": [
    "#  **MACHINE LEARNING WITH PYTHON**\n",
    "\n",
    "## **Projet 6 : Deep Learning with TensorFlow/Keras**"
   ]
  },
  {
   "cell_type": "markdown",
   "metadata": {},
   "source": [
    "_Groupe_ : Soubeiga Armel, ..."
   ]
  },
  {
   "cell_type": "markdown",
   "metadata": {},
   "source": [
    "Au cours des dernières années, les méthodes d'apprentissage en profondeur sont devenues de plus en plus populaires, en particulier lorsqu'elles ont atteint une précision époustouflante sur des tâches d'apprentissage automatique telles que la classification des images. La plupart des frameworks pour réseaux de neurones sont interfacés avec Python, le plus populaire étant le TensorFlow de Google et le Keras de l' ancien cerveau de Google . La reconnaissance des chiffres est un exemple typique des réseaux de neurones.\n",
    "\n",
    "**Exemple d'objectifs:**\n",
    "\n",
    "* Installer TensorFlow / Keras\n",
    "* Générer un code pour l'apprentissage d'un classifieur de chiffres à l'aide d'architectures d'apprentissage approfondies\n",
    "* Produire un cahier de tutoriel sur la façon de le faire"
   ]
  },
  {
   "cell_type": "markdown",
   "metadata": {},
   "source": [
    "## PLan\n",
    "\n",
    "* **Introduction**\n",
    "* **Description : TensorFlow/Keras**\n",
    "* **Prétraitement des données**\n",
    "* **Entrainement du réseau**"
   ]
  },
  {
   "cell_type": "markdown",
   "metadata": {},
   "source": [
    "## Introduction\n",
    "\n",
    "Nous allons étudier comment faire de la reconnaissance de forme sous python avec TensorFlow/Keras de Keras. Cet rapport est une introduction aux réseaux de neurones. \n",
    "\n",
    "Les réseaux de neurones artificiels sont simplement des systèmes inspirés du fonctionnement des neurones biologiques. Ils constituent une méthode puissante pour un large éventail de tâches d’apprentissage automatique. L’idée des réseaux de neurones est de construire un réseau avec des nœuds interconnectés (neurones) qui effectuent différentes opérations. Les nœuds ont des poids, qui sont mis à jour pendant le processus d'apprentissage. Dans un réseau multicouche, plusieurs couches de nœuds sont connectées les unes aux autres\n",
    "\n",
    "Les données proviennent de  http://yann.lecun.com/exdb/mnist/. Elles consistent en un dossier d’images et deux fichiers train.csv et test.csv. Il s’agit d’une collection d’images représentant chacune un chiffre de 0 à 9, façon écriture manuscrite. L’objectif est de retrouver ce chiffre."
   ]
  },
  {
   "cell_type": "markdown",
   "metadata": {},
   "source": [
    "## Description : TensorFlow/Keras\n",
    "\n",
    "**Keras** est une API de réseaux de neurones de haut niveau, écrit en Python et capable de fonctionner au-dessus de **tensorflow , CNTK ou Théano** . Il a été développé pour permettre une expérimentation rapide et compatible à  **Python 2.7-3.6**\n",
    "\n",
    "### Objectifs\n",
    "\n",
    "* Permet un prototypage simple et rapide (convivialité, modularité et extensibilité).\n",
    "* Prend en charge les réseaux convolutionnels et les réseaux récurrents, ainsi que leurs combinaisons.\n",
    "* Fonctionne de manière transparente sur le processeur et le processeur graphique.\n",
    "\n",
    "### Installation\n",
    "\n",
    "Avant d’installer Keras, veuillez installer l’un de ses moteurs: TensorFlow, Theano ou CNTK. Nous nous interessons à TensorFlow.\n",
    "\n",
    "* **TensorFlow**\n",
    "\n",
    "```python\n",
    "#Current release for CPU-only\n",
    "pip install tensorflow\n",
    "```\n",
    "```python\n",
    "#Nightly build for CPU-only (unstable)\n",
    "pip install tf-nightly\n",
    "```\n",
    "```python\n",
    "#GPU package for CUDA-enabled GPU cards\n",
    "pip install tensorflow-gpu\n",
    "```\n",
    "```python\n",
    "#Nightly build with GPU support (unstable)\n",
    "pip install tf-nightly-gpu\n",
    "```\n",
    "* **Keras**\n",
    "\n",
    "```python\n",
    "#Installez Keras à partir de PyPI (recommandé)\n",
    "sudo pip install keras\n",
    "pip install keras\n",
    "```"
   ]
  },
  {
   "cell_type": "code",
   "execution_count": 2,
   "metadata": {},
   "outputs": [],
   "source": [
    "##Library préparation des données\n",
    "from __future__ import absolute_import\n",
    "from __future__ import division\n",
    "from __future__ import print_function\n",
    "\n",
    "import gzip\n",
    "import os\n",
    "from os import listdir\n",
    "from os.path import isfile, join\n",
    "import sys\n",
    "import time\n",
    "\n",
    "from six.moves import urllib\n",
    "from six.moves import xrange  \n",
    "from scipy.misc import imsave\n",
    "from scipy import misc\n",
    "import csv\n",
    "\n",
    "import numpy as np\n",
    "import matplotlib.pyplot as plt\n",
    "import pandas as pd\n",
    "\n",
    "\n",
    "##Library d'apprentissage\n",
    "from keras.models import Sequential\n",
    "from keras.layers import Dense, Dropout, Activation, Flatten\n",
    "from keras.layers import MaxPooling2D, AveragePooling2D, Conv2D\n",
    "from keras.utils import np_utils\n",
    "import tensorflow as tf\n",
    "import math\n",
    "from math import sqrt\n",
    "\n",
    "\n",
    "import pylab\n",
    "from sklearn.model_selection import train_test_split\n",
    " \n",
    "np.random.seed(123)"
   ]
  },
  {
   "cell_type": "markdown",
   "metadata": {},
   "source": [
    "Nous initialisons également la graine aléatoire pour assurer la reproductibilité"
   ]
  },
  {
   "cell_type": "markdown",
   "metadata": {},
   "source": [
    "## Prétraitement des données\n",
    "\n",
    "Nous avons utilisé la base de données de **THE MNIST DATABASE** . C'est une base de données de chiffres manuscrits, contenant 60 000 exemples d'apprentissage et 10 000 exemples de tests. C'est une bonne base de données pour les personnes qui souhaitent essayer des techniques d'apprentissage et des méthodes de reconnaissance de formes sur des données réelles. Elle contient 4 fichiers de format .gz"
   ]
  },
  {
   "attachments": {
    "notebook.PNG": {
     "image/png": "[encoded data removed]"
    }
   },
   "cell_type": "markdown",
   "metadata": {},
   "source": [
    "![notebook.PNG](attachment:notebook.PNG)"
   ]
  },
  {
   "cell_type": "markdown",
   "metadata": {},
   "source": [
    "**train-images-idx3-ubyte.gz et test-images-idx3-ubyte.gz** contient la liste des images réelles d’apprentissage. \n",
    "\n",
    "**train-labels-idx1-ubyte.gz et test-labels-idx1-ubyte.gz** contiennent la liste des labeles associés à chaque images\n",
    "\n",
    "Nous avons développé ci-dessous des scripts pour télécharger ces fichiers les extraire, les rendre en pixcéles et les associées à leurs labels. Il faut en premier lieu charger les images (.png) en mémoire à partir du site de **Yann LeCun** et les lire en pixéles.\n"
   ]
  },
  {
   "cell_type": "code",
   "execution_count": null,
   "metadata": {},
   "outputs": [],
   "source": [
    "\n",
    "SOURCE_URL = 'http://yann.lecun.com/exdb/mnist/'\n",
    "WORK_DIRECTORY = 'C:/Users/Soubeiga Armel/Desktop/Mes COURS/SSD_UGA/M2/Python/Projet/Data'\n",
    "IMAGE_SIZE = 28\n",
    "NUM_CHANNELS = 1\n",
    "PIXEL_DEPTH = 255\n",
    "NUM_LABELS = 10\n",
    "\n",
    "def maybe_download(filename):\n",
    "  \"\"\"function de téléchargement des données\"\"\"\n",
    "  if not tf.gfile.Exists(WORK_DIRECTORY):\n",
    "    tf.gfile.MakeDirs(WORK_DIRECTORY)\n",
    "  filepath = os.path.join(WORK_DIRECTORY, filename)\n",
    "  if not tf.gfile.Exists(filepath):\n",
    "    filepath, _ = urllib.request.urlretrieve(SOURCE_URL + filename, filepath)\n",
    "    with tf.gfile.GFile(filepath) as f:\n",
    "      size = f.Size()\n",
    "    print('Successfully downloaded', filename, size, 'bytes.')\n",
    "  return filepath\n",
    "\n",
    "\n",
    "def extract_data(filename, num_images):\n",
    "  \"\"\"function d'extraction des données en format zip.\n",
    "  Values are rescaled from [0, 255] down to [-0.5, 0.5].\n",
    "  \"\"\"\n",
    "  print('Extracting', filename)\n",
    "  with gzip.open(filename) as bytestream:\n",
    "    bytestream.read(16)\n",
    "    buf = bytestream.read(IMAGE_SIZE * IMAGE_SIZE * num_images)\n",
    "    data = np.frombuffer(buf, dtype=np.uint8).astype(np.float32)\n",
    "    #data = (data - (PIXEL_DEPTH / 2.0)) / PIXEL_DEPTH\n",
    "    data = data.reshape(num_images, IMAGE_SIZE, IMAGE_SIZE, 1)\n",
    "    return data\n",
    "\n",
    "\n",
    "def extract_labels(filename, num_images):\n",
    "  \"\"\"Function d'extraction des labelles.\"\"\"\n",
    "  print('Extracting', filename)\n",
    "  with gzip.open(filename) as bytestream:\n",
    "    bytestream.read(8)\n",
    "    buf = bytestream.read(1 * num_images)\n",
    "    labels = np.frombuffer(buf, dtype=np.uint8).astype(np.int64)\n",
    "  return labels\n",
    "\n",
    "\n",
    "#exécution function download\n",
    "train_data_filename = maybe_download('train-images-idx3-ubyte.gz')\n",
    "train_labels_filename = maybe_download('train-labels-idx1-ubyte.gz')\n",
    "test_data_filename = maybe_download('t10k-images-idx3-ubyte.gz')\n",
    "test_labels_filename = maybe_download('t10k-labels-idx1-ubyte.gz')\n",
    "\n",
    "\n",
    "# Extract it into np arrays.\n",
    "train_data = extract_data(train_data_filename, 60000)\n",
    "train_labels = extract_labels(train_labels_filename, 60000)\n",
    "test_data = extract_data(test_data_filename, 10000)\n",
    "test_labels = extract_labels(test_labels_filename, 10000)\n",
    "\n",
    "\n",
    "#Creation de directory\n",
    "if not os.path.isdir(\"mnist/train-images\"):\n",
    "   os.makedirs(\"mnist/train-images\")\n",
    "\n",
    "if not os.path.isdir(\"mnist/test-images\"):\n",
    "   os.makedirs(\"mnist/test-images\")\n",
    "\n",
    "# process train data\n",
    "with open(\"mnist/train-labels.csv\", 'w') as csvFile:\n",
    "  writer = csv.writer(csvFile, delimiter=',', quotechar='\"')\n",
    "  for i in range(len(train_data)):\n",
    "    imsave(\"mnist/train-images/\" + str(i) + \".jpg\", train_data[i][:,:,0])\n",
    "    writer.writerow([str(i) + \".jpg\", train_labels[i]])\n",
    "\n",
    "\n",
    "\n",
    "# repeat for test data\n",
    "with open(\"mnist/test-labels.csv\", 'w') as csvFile:\n",
    "  writer = csv.writer(csvFile, delimiter=',', quotechar='\"')\n",
    "  for i in range(len(test_data)):\n",
    "    imsave(\"mnist/test-images/\" + str(i) + \".jpg\", test_data[i][:,:,0])\n",
    "    writer.writerow([str(i) + \".jpg\", test_labels[i]])"
   ]
  },
  {
   "attachments": {
    "notebook.1.PNG": {
     "image/png": "[encoded data removed]"
    }
   },
   "cell_type": "markdown",
   "metadata": {},
   "source": [
    "![notebook.1.PNG](attachment:notebook.1.PNG)"
   ]
  },
  {
   "cell_type": "markdown",
   "metadata": {},
   "source": [
    "Une fois nous avons extrait les images la suite nous allos les convertir en pixél."
   ]
  },
  {
   "cell_type": "code",
   "execution_count": 13,
   "metadata": {},
   "outputs": [],
   "source": [
    "#function conver imgtopx and labellise\n",
    "\n",
    "def get_digits_images():\n",
    "    path_train=WORK_DIRECTORY+\"/mnist/train-images/\"\n",
    "    path_test=WORK_DIRECTORY+\"/mnist/test-images/\"\n",
    "\n",
    "    train= pd.read_csv(WORK_DIRECTORY+\"/mnist/train-labels.csv\",sep=\",\")\n",
    "    test= pd.read_csv(WORK_DIRECTORY+\"/mnist/test-labels.csv\",sep=\",\")\n",
    "    X_train=[]\n",
    "    X_test=[]\n",
    "    \n",
    "    for row in train.itertuples():\n",
    "        im=misc.imread(path_train+row[1],flatten =True) # niveaux de gris\n",
    "        X_train.append(im)\n",
    "        \n",
    "    for row in test.itertuples():\n",
    "        im=misc.imread(path_test+row[1],flatten =True)# niveaux de gris\n",
    "        X_test.append(im)\n",
    "        \n",
    "    return np.asarray(X_train), train.iloc[:,1:2],np.asarray(X_test) #renvoie xtrain,ytrain, xtest\n"
   ]
  },
  {
   "cell_type": "markdown",
   "metadata": {},
   "source": [
    "Il suffit à la suite d’appeler **get_digits_images()** pour récupérer un tuple de listes contenant les images et les labels.\n",
    "\n",
    "Nous avons partitionné également le jeu d’apprentissage **train.csv** en X_train, y_test qui serviront à valider le modèle. Attention, on ne touche pas à la base **test.csv** qui ne servira qu'à la fin."
   ]
  },
  {
   "cell_type": "code",
   "execution_count": null,
   "metadata": {},
   "outputs": [],
   "source": [
    "#charger les images\n",
    "X_train,y_train,X_test=get_digits_images()\n",
    "#voir les predictions\n",
    "model_perc.predict(xtest, verbose=0)\n",
    "# partitionner jeux train/test\n",
    "xtrain, xtest, ytrain, ytest = train_test_split( X_train, y_train, test_size=0.3, random_state=123)"
   ]
  },
  {
   "cell_type": "markdown",
   "metadata": {},
   "source": [
    "Nous utiliserons tout d’abord un réseau de neurones sous forme de perceptrons puis un modèle convolutif. Le multicouche Perceptron attend comme entrée un ensemble de tableaux unidimensionnels, le réseau de neurones de convolution attend un ensemble de tableaux bidimensionnels."
   ]
  },
  {
   "cell_type": "markdown",
   "metadata": {},
   "source": [
    "## Entrainement du réseau"
   ]
  },
  {
   "cell_type": "markdown",
   "metadata": {},
   "source": [
    "### Structure du réseau\n",
    "\n",
    "Dans un premier temps, nous allons utiliser un réseau de neurones « classique » **(perceptron simple)** pour tenter de lire les chiffres. Ensuite, nous utiliserons **Deeper perceptrons** et enfin une **Convolution 2D**\n",
    "\n",
    "Les images (28 x 28 pixels) seront transformés en un simple vecteur 1 x 784. Nous allons tout simplement accolés les lignes de l’image les unes à la suite des autres grâce à la fonction reshape().\n",
    "\n",
    "Ensuite vient alors une étape de normalisation des vecteurs, très importante en réseau de neurones, puis la conversion des variables catégorielles (factors) en « one hot encoded » réalise sur les labels.\n",
    "\n",
    "Il faut noter que nous le faisons sur les labels, c’est à dire les valeurs à prédire. Le réseau de neurones ne nous donnera pas directement un chiffre comme « 3 » mais un vecteur one hot encoded 0,0,0,1,0,0,0,0,0,0 pour décrire « 3 » (en fait le réseau retourne la probabilité de chacun des chiffres, entre 0 et 1)."
   ]
  },
  {
   "attachments": {
    "notebook.2.PNG": {
     "image/png": "[encoded data removed]"
    }
   },
   "cell_type": "markdown",
   "metadata": {},
   "source": [
    "![notebook.2.PNG](attachment:notebook.2.PNG)"
   ]
  },
  {
   "cell_type": "markdown",
   "metadata": {},
   "source": [
    "* A gauche, le réseau aura une entrée par pixel de l’image, soit une couche de 784 (28 x28) neurones\n",
    "\n",
    "* A droite, la couche de sortie comportera 10 neurones, un par chiffre."
   ]
  },
  {
   "cell_type": "markdown",
   "metadata": {},
   "source": [
    "### Perceptron simple\n",
    "\n",
    "Dans un premier temps, il n’y aura pas de couche intermédiaire.\n",
    "\n",
    "**Sequential()** permet de créer le réseau, puis on ajoute les couches successivement avec **add()** en définissant les fonctions d’activation et les autres paramètres. Enfin, **compile()** permet de définir la métrique, la fonction de perte et l’optimisateur. La fonction **fit()** entraîne celui-ci sur nos données. La fonction **evaluate()** permet d’estimer le modèle sur notre jeu xtest"
   ]
  },
  {
   "cell_type": "code",
   "execution_count": null,
   "metadata": {},
   "outputs": [],
   "source": [
    "def perceptrons(vector_size):\n",
    "  model = Sequential()\n",
    "  model.add(Dense(vector_size, activation='relu', input_dim=(vector_size)))\n",
    "  model.add(Dense(10, activation='softmax')) # 10 sorties/classes\n",
    "  model.compile(loss='categorical_crossentropy',optimizer='adam', metrics=['accuracy'])\n",
    "  return model\n",
    "\n",
    "##Lançons à présent ce premier réseau:\n",
    "model_perc = perceptrons(vector_size)\n",
    "model_perc.fit(xtrain,ytrain,batch_size=200, nb_epoch=10, verbose=1)\n",
    "\n",
    " \n",
    "#voir les predictions\n",
    "model_perc.predict(xtest, verbose=0)\n",
    "score = model_perc.evaluate(xtest, ytest, verbose=1)\n"
   ]
  },
  {
   "cell_type": "markdown",
   "metadata": {},
   "source": [
    "### Deeper perceptrons\n",
    "\n",
    "Nous avons ajouté une couche intermédiaire de 50 neurones avec fonction d’activation ReLU."
   ]
  },
  {
   "cell_type": "code",
   "execution_count": null,
   "metadata": {},
   "outputs": [],
   "source": [
    "def perceptrons_deeper(vector_size):\n",
    "  model = Sequential()\n",
    "  model.add(Dense(vector_size, activation='relu', input_dim=(vector_size)))\n",
    "  model.add(Dense(50, activation='relu'))\n",
    "  model.add(Dense(10, activation='softmax')) # 10 sorties/classes\n",
    "  model.compile(loss='categorical_crossentropy',optimizer='adam', metrics=['accuracy'])\n",
    "  return model\n",
    " \n",
    "model_perc = perceptrons_deeper(vector_size)\n",
    "model_perc.fit(xtrain,ytrain,batch_size=200, nb_epoch=10, verbose=1)\n",
    "\n",
    " \n",
    "score = model_perc.evaluate(xtest, ytest, verbose=1)\n"
   ]
  },
  {
   "cell_type": "markdown",
   "metadata": {},
   "source": [
    "### Convolution 2D\n",
    "\n",
    "Le problème avec le perceptron, c’est que nous perdons l’information spatiale en linéarisant l’image. Avec la convolution 2D au contraire, l’image est effectivement traitée comme un objet à deux dimensions : le traitement de chaque pixel de l’image dépend de ses voisins. Nous utiliserons deux réseaux en série: le modèle convolutif puis un modèle perceptrons classique.\n",
    "\n",
    "* Nous devons repartir des images originelles:"
   ]
  },
  {
   "cell_type": "code",
   "execution_count": null,
   "metadata": {},
   "outputs": [],
   "source": [
    "xtrain, xtest, ytrain, ytest = train_test_split( X_train, y_train, test_size=0.3, random_state=123)\n",
    " \n",
    "####reshape pour ajouter un canal de profondeur aux images (requis par keras)\n",
    "### attention, ici ordre des parametres pour tensorflow\n",
    "xtrain = xtrain.reshape(xtrain.shape[0], xtrain.shape[1], xtrain.shape[1],1) \n",
    "xtest = xtest.reshape(xtest.shape[0], xtest.shape[1], xtest.shape[1],1)\n",
    " \n",
    "# normaliser\n",
    "xtrain=xtrain.astype('float32')\n",
    "xtest=xtest.astype('float32')\n",
    "xtrain=xtrain/255.0\n",
    "xtest=xtest/255.0\n",
    " \n",
    "# one hot encoding\n",
    "ytrain=np_utils.to_categorical(ytrain)\n",
    "ytest=np_utils.to_categorical(ytest)"
   ]
  },
  {
   "cell_type": "markdown",
   "metadata": {},
   "source": [
    "* Définissons maintenant le nouveau réseau 2D:"
   ]
  },
  {
   "cell_type": "code",
   "execution_count": null,
   "metadata": {},
   "outputs": [],
   "source": [
    "\n",
    "def perceptrons_deeper(vector_size):\n",
    "    model = Sequential()\n",
    "    model.add(Conv2D(32, (3, 3), activation='relu', input_shape=(28,28,1))) # attention input_shape different tensorflow ou theano\n",
    "    model.add(Conv2D(32, (3, 3), activation='relu'))\n",
    "    model.add(MaxPooling2D(pool_size=(2,2)))\n",
    "    model.add(Dropout(0.25))\n",
    "    model.add(Flatten()) #passage NN perceptron\n",
    "    model.add(Dense(128, activation='relu'))\n",
    "    model.add(Dropout(0.5))\n",
    "    model.add(Dense(10, activation='softmax'))\n",
    "    model.compile(loss='categorical_crossentropy',optimizer='adam', metrics='accuracy'])\n",
    "    return model"
   ]
  },
  {
   "cell_type": "markdown",
   "metadata": {},
   "source": [
    "Pour la première couche, il faut noter l’ordre différent de input_shape selon le backend:\n",
    "\n",
    "**input_shape=(28,28,1) pour tensorflow**\n",
    "\n",
    "La structure est la suivante:\n",
    "\n",
    "* La couche d’entrée qui applique également une convolution\n",
    "* une deuxième couche de convolution\n",
    "* un maxPooling, sous échantillonnage de facteur 2\n",
    "* une couche dropout de régularisation pour éviter le sur-apprentissage\n",
    "* une couche flatten pour passer en 1 dimension et accéder au réseau classique\n",
    "* une couche dense qui sert d’interface entre les deux réseaux (1 sortie = 1 entrée)\n",
    "* une nouvelle couche de dropout\n",
    "* la couche de sortie\n",
    "\n",
    "Voyons les performances:"
   ]
  },
  {
   "cell_type": "code",
   "execution_count": null,
   "metadata": {},
   "outputs": [],
   "source": [
    "model_conv=conv_neuronet()\n",
    "model_conv.fit(xtrain,ytrain,batch_size=200, nb_epoch=10, verbose=1)\n",
    "\n",
    "score = model_conv.evaluate(xtest, ytest, verbose=1)"
   ]
  }
 ],
 "metadata": {
  "kernelspec": {
   "display_name": "Python 3",
   "language": "python",
   "name": "python3"
  },
  "language_info": {
   "codemirror_mode": {
    "name": "ipython",
    "version": 3
   },
   "file_extension": ".py",
   "mimetype": "text/x-python",
   "name": "python",
   "nbconvert_exporter": "python",
   "pygments_lexer": "ipython3",
   "version": "3.6.5"
  }
 },
 "nbformat": 4,
 "nbformat_minor": 2
}
